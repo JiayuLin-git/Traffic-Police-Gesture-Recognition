{
 "cells": [
  {
   "cell_type": "code",
   "execution_count": 1,
   "metadata": {},
   "outputs": [],
   "source": [
    "from sklearn.neural_network import MLPClassifier\n",
    "\n",
    "from sklearn.experimental import enable_hist_gradient_boosting\n",
    "\n",
    "from sklearn.ensemble import RandomForestClassifier\n",
    "from sklearn.ensemble import ExtraTreesClassifier\n",
    "from sklearn.ensemble import HistGradientBoostingClassifier\n",
    "\n",
    "from sklearn.svm import SVC\n",
    "from sklearn.svm import NuSVC\n",
    "\n",
    "from sklearn.model_selection import train_test_split\n",
    "from sklearn import preprocessing\n",
    "import numpy as np\n",
    "import joblib"
   ]
  },
  {
   "cell_type": "code",
   "execution_count": 2,
   "metadata": {},
   "outputs": [],
   "source": [
    "dataset = np.load('dataset.npy')\n",
    "X,y = dataset[:,:-1],dataset[:,-1]"
   ]
  },
  {
   "cell_type": "code",
   "execution_count": 3,
   "metadata": {},
   "outputs": [
    {
     "data": {
      "text/plain": [
       "['scaler']"
      ]
     },
     "execution_count": 3,
     "metadata": {},
     "output_type": "execute_result"
    }
   ],
   "source": [
    "scaler = preprocessing.StandardScaler().fit(X)\n",
    "X_scaled = scaler.transform(X)\n",
    "joblib.dump(scaler,'scaler')"
   ]
  },
  {
   "cell_type": "code",
   "execution_count": 4,
   "metadata": {},
   "outputs": [],
   "source": [
    "models = {'MLP':MLPClassifier(hidden_layer_sizes=(1024,1024),solver='lbfgs'),'RF':ExtraTreesClassifier(n_estimators=250),'SVM':NuSVC(nu=0.2),'Boosting':HistGradientBoostingClassifier()}"
   ]
  },
  {
   "cell_type": "code",
   "execution_count": 5,
   "metadata": {},
   "outputs": [
    {
     "name": "stdout",
     "output_type": "stream",
     "text": [
      "MLP\n",
      "1.0 0.9140625\n",
      "1.0 0.8671875\n",
      "1.0 0.890625\n",
      "1.0 0.8671875\n",
      "1.0 0.9140625\n",
      "1.0 0.8671875\n",
      "1.0 0.890625\n",
      "1.0 0.8671875\n",
      "1.0 0.890625\n",
      "1.0 0.9140625\n",
      "RF\n",
      "1.0 0.890625\n",
      "1.0 0.9375\n",
      "1.0 0.9140625\n",
      "1.0 0.90625\n",
      "1.0 0.9453125\n",
      "1.0 0.9453125\n",
      "1.0 0.953125\n",
      "1.0 0.9296875\n",
      "1.0 0.921875\n",
      "1.0 0.8984375\n",
      "SVM\n",
      "0.984375 0.8515625\n",
      "0.984375 0.796875\n",
      "0.9791666666666666 0.7890625\n",
      "0.984375 0.8515625\n",
      "0.9895833333333334 0.8671875\n",
      "0.984375 0.8828125\n",
      "0.984375 0.8671875\n",
      "0.984375 0.7734375\n",
      "0.9947916666666666 0.8359375\n",
      "0.9895833333333334 0.8125\n",
      "Boosting\n",
      "1.0 0.9453125\n",
      "1.0 0.90625\n",
      "1.0 0.9140625\n",
      "1.0 0.8671875\n",
      "1.0 0.921875\n",
      "1.0 0.9140625\n",
      "1.0 0.9296875\n",
      "1.0 0.8671875\n",
      "1.0 0.921875\n",
      "1.0 0.90625\n"
     ]
    }
   ],
   "source": [
    "for model in models:\n",
    "    print(model)\n",
    "    clf = models[model]\n",
    "    max_score = 0\n",
    "    for i in range(10):\n",
    "        X_train, X_test, y_train, y_test = train_test_split(X_scaled, y, test_size=0.4)\n",
    "        clf.fit(X_train,y_train)\n",
    "        score_train = clf.score(X_train, y_train)\n",
    "        print(score_train, end=\" \")\n",
    "        score_test = clf.score(X_test, y_test)\n",
    "        print(score_test)\n",
    "        if score_test > max_score:\n",
    "            best_clf = clf\n",
    "            max_score = score_test\n",
    "            best_scaler = scaler\n",
    "    joblib.dump(clf,model)"
   ]
  },
  {
   "cell_type": "code",
   "execution_count": null,
   "metadata": {},
   "outputs": [],
   "source": []
  }
 ],
 "metadata": {
  "kernelspec": {
   "display_name": "Python 3",
   "language": "python",
   "name": "python3"
  },
  "language_info": {
   "codemirror_mode": {
    "name": "ipython",
    "version": 3
   },
   "file_extension": ".py",
   "mimetype": "text/x-python",
   "name": "python",
   "nbconvert_exporter": "python",
   "pygments_lexer": "ipython3",
   "version": "3.7.6"
  }
 },
 "nbformat": 4,
 "nbformat_minor": 4
}
